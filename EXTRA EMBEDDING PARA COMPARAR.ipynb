{
 "cells": [
  {
   "cell_type": "markdown",
   "metadata": {},
   "source": [
    "# Evaluando con Embedding para comparar"
   ]
  },
  {
   "cell_type": "code",
   "execution_count": 1,
   "id": "f1b2a9c0",
   "metadata": {},
   "outputs": [
    {
     "name": "stdout",
     "output_type": "stream",
     "text": [
      "WARNING:tensorflow:From C:\\Users\\tiefa\\AppData\\Local\\Packages\\PythonSoftwareFoundation.Python.3.11_qbz5n2kfra8p0\\LocalCache\\local-packages\\Python311\\site-packages\\tf_keras\\src\\losses.py:2976: The name tf.losses.sparse_softmax_cross_entropy is deprecated. Please use tf.compat.v1.losses.sparse_softmax_cross_entropy instead.\n",
      "\n"
     ]
    },
    {
     "name": "stderr",
     "output_type": "stream",
     "text": [
      "[nltk_data] Downloading package stopwords to\n",
      "[nltk_data]     C:\\Users\\tiefa\\AppData\\Roaming\\nltk_data...\n",
      "[nltk_data]   Package stopwords is already up-to-date!\n"
     ]
    }
   ],
   "source": [
    "import pandas as pd\n",
    "import numpy as np\n",
    "import matplotlib.pyplot as plt\n",
    "import seaborn as sns\n",
    "\n",
    "from sklearn.model_selection import train_test_split\n",
    "from sentence_transformers import SentenceTransformer\n",
    "from sklearn.preprocessing import LabelEncoder\n",
    "from imblearn.over_sampling import SMOTE\n",
    "from sklearn.linear_model import LogisticRegression\n",
    "from sklearn.naive_bayes import GaussianNB\n",
    "from sklearn.ensemble import RandomForestClassifier\n",
    "\n",
    "from sklearn.metrics import classification_report, accuracy_score\n",
    "\n",
    "import nltk\n",
    "import string\n",
    "from nltk.corpus import stopwords\n",
    "\n",
    "nltk.download('stopwords')\n",
    "stop_words = set(stopwords.words('english'))"
   ]
  },
  {
   "cell_type": "markdown",
   "id": "f4d031a3",
   "metadata": {},
   "source": [
    "#### **Lectura del Dataset**"
   ]
  },
  {
   "cell_type": "code",
   "execution_count": 2,
   "id": "c2aeab40",
   "metadata": {},
   "outputs": [
    {
     "data": {
      "text/html": [
       "<div>\n",
       "<style scoped>\n",
       "    .dataframe tbody tr th:only-of-type {\n",
       "        vertical-align: middle;\n",
       "    }\n",
       "\n",
       "    .dataframe tbody tr th {\n",
       "        vertical-align: top;\n",
       "    }\n",
       "\n",
       "    .dataframe thead th {\n",
       "        text-align: right;\n",
       "    }\n",
       "</style>\n",
       "<table border=\"1\" class=\"dataframe\">\n",
       "  <thead>\n",
       "    <tr style=\"text-align: right;\">\n",
       "      <th></th>\n",
       "      <th>tweet</th>\n",
       "      <th>label</th>\n",
       "    </tr>\n",
       "  </thead>\n",
       "  <tbody>\n",
       "    <tr>\n",
       "      <th>0</th>\n",
       "      <td>!!! RT @mayasolovely: As a woman you shouldn't...</td>\n",
       "      <td>neither</td>\n",
       "    </tr>\n",
       "    <tr>\n",
       "      <th>1</th>\n",
       "      <td>!!!!! RT @mleew17: boy dats cold...tyga dwn ba...</td>\n",
       "      <td>offensive</td>\n",
       "    </tr>\n",
       "    <tr>\n",
       "      <th>2</th>\n",
       "      <td>!!!!!!! RT @UrKindOfBrand Dawg!!!! RT @80sbaby...</td>\n",
       "      <td>offensive</td>\n",
       "    </tr>\n",
       "    <tr>\n",
       "      <th>3</th>\n",
       "      <td>!!!!!!!!! RT @C_G_Anderson: @viva_based she lo...</td>\n",
       "      <td>offensive</td>\n",
       "    </tr>\n",
       "    <tr>\n",
       "      <th>4</th>\n",
       "      <td>!!!!!!!!!!!!! RT @ShenikaRoberts: The shit you...</td>\n",
       "      <td>offensive</td>\n",
       "    </tr>\n",
       "  </tbody>\n",
       "</table>\n",
       "</div>"
      ],
      "text/plain": [
       "                                               tweet      label\n",
       "0  !!! RT @mayasolovely: As a woman you shouldn't...    neither\n",
       "1  !!!!! RT @mleew17: boy dats cold...tyga dwn ba...  offensive\n",
       "2  !!!!!!! RT @UrKindOfBrand Dawg!!!! RT @80sbaby...  offensive\n",
       "3  !!!!!!!!! RT @C_G_Anderson: @viva_based she lo...  offensive\n",
       "4  !!!!!!!!!!!!! RT @ShenikaRoberts: The shit you...  offensive"
      ]
     },
     "execution_count": 2,
     "metadata": {},
     "output_type": "execute_result"
    }
   ],
   "source": [
    "# Lectura del dataset\n",
    "df = pd.read_csv('tweets_hate_speech.csv')\n",
    "# Vista de los datos\n",
    "df.head()"
   ]
  },
  {
   "cell_type": "markdown",
   "id": "01a59322",
   "metadata": {},
   "source": [
    "#### **Preprocesamiento ligero de Textos**"
   ]
  },
  {
   "cell_type": "code",
   "execution_count": 3,
   "id": "95ce6b80",
   "metadata": {},
   "outputs": [],
   "source": [
    "def clean_for_embedding(text):\n",
    "    text = text.lower()\n",
    "    text = ''.join([c for c in text if c not in string.punctuation])\n",
    "    return text\n",
    "\n",
    "df['clean_text'] = df['tweet'].apply(clean_for_embedding)"
   ]
  },
  {
   "cell_type": "code",
   "execution_count": 4,
   "id": "f08f44cc",
   "metadata": {},
   "outputs": [
    {
     "data": {
      "text/plain": [
       "0         rt mayasolovely as a woman you shouldnt compl...\n",
       "1         rt mleew17 boy dats coldtyga dwn bad for cuff...\n",
       "2         rt urkindofbrand dawg rt 80sbaby4life you eve...\n",
       "3           rt cganderson vivabased she look like a tranny\n",
       "4         rt shenikaroberts the shit you hear about me ...\n",
       "                               ...                        \n",
       "24778    yous a muthafin lie 8220lifeasking 20pearls co...\n",
       "24779    youve gone and broke the wrong heart baby and ...\n",
       "24780    young buck wanna eat dat nigguh like i aint fu...\n",
       "24781                youu got wild bitches tellin you lies\n",
       "24782    ruffled  ntac eileen dahlia  beautiful color c...\n",
       "Name: clean_text, Length: 24783, dtype: object"
      ]
     },
     "execution_count": 4,
     "metadata": {},
     "output_type": "execute_result"
    }
   ],
   "source": [
    "df['clean_text']"
   ]
  },
  {
   "cell_type": "markdown",
   "id": "c0a873e5",
   "metadata": {},
   "source": [
    "#### **Procesamiento de variable de salida**"
   ]
  },
  {
   "cell_type": "code",
   "execution_count": 5,
   "id": "985f9f3c",
   "metadata": {},
   "outputs": [],
   "source": [
    "# Convertir sentimiento a números\n",
    "label_encoder = LabelEncoder()\n",
    "df['label'] = label_encoder.fit_transform(df['label'])  # Guarda el target como número"
   ]
  },
  {
   "cell_type": "code",
   "execution_count": 6,
   "id": "1df1f078",
   "metadata": {},
   "outputs": [
    {
     "data": {
      "text/plain": [
       "label\n",
       "2    19190\n",
       "1     4163\n",
       "0     1430\n",
       "Name: count, dtype: int64"
      ]
     },
     "execution_count": 6,
     "metadata": {},
     "output_type": "execute_result"
    }
   ],
   "source": [
    "df['label'].value_counts()"
   ]
  },
  {
   "cell_type": "code",
   "execution_count": 7,
   "id": "ff8d263b",
   "metadata": {},
   "outputs": [],
   "source": [
    "y = df['label']"
   ]
  },
  {
   "cell_type": "markdown",
   "id": "1a200ed1",
   "metadata": {},
   "source": [
    "#### **Generar Embeddings**"
   ]
  },
  {
   "cell_type": "code",
   "execution_count": 8,
   "id": "ad2b5ed8",
   "metadata": {},
   "outputs": [
    {
     "data": {
      "application/vnd.jupyter.widget-view+json": {
       "model_id": "8f40833a55f24f39a7cab8712997abf8",
       "version_major": 2,
       "version_minor": 0
      },
      "text/plain": [
       "Batches:   0%|          | 0/775 [00:00<?, ?it/s]"
      ]
     },
     "metadata": {},
     "output_type": "display_data"
    }
   ],
   "source": [
    "model = SentenceTransformer('all-MiniLM-L6-v2')\n",
    "X_embed = model.encode(df['clean_text'], show_progress_bar=True)"
   ]
  },
  {
   "cell_type": "code",
   "execution_count": 9,
   "id": "ebe2143c",
   "metadata": {},
   "outputs": [
    {
     "data": {
      "text/plain": [
       "(24783, 384)"
      ]
     },
     "execution_count": 9,
     "metadata": {},
     "output_type": "execute_result"
    }
   ],
   "source": [
    "X_embed.shape"
   ]
  },
  {
   "cell_type": "code",
   "execution_count": 10,
   "id": "817141b1",
   "metadata": {},
   "outputs": [
    {
     "data": {
      "text/plain": [
       "array([[ 0.01901864,  0.00712657,  0.07876877, ..., -0.02855344,\n",
       "        -0.01802498, -0.0662341 ],\n",
       "       [-0.16165811,  0.09571908,  0.0073463 , ...,  0.0361587 ,\n",
       "        -0.07018037, -0.03525419],\n",
       "       [-0.09051607, -0.03429916,  0.05277705, ...,  0.03487894,\n",
       "         0.07084113, -0.08789101],\n",
       "       ...,\n",
       "       [-0.07719656,  0.00237438, -0.00057759, ...,  0.05092219,\n",
       "         0.01416581, -0.0707811 ],\n",
       "       [ 0.01163934, -0.04132041,  0.03148473, ...,  0.02136753,\n",
       "        -0.02645826, -0.08492611],\n",
       "       [-0.06784629, -0.04085307,  0.02901089, ...,  0.04269483,\n",
       "         0.0034777 , -0.06179452]], dtype=float32)"
      ]
     },
     "execution_count": 10,
     "metadata": {},
     "output_type": "execute_result"
    }
   ],
   "source": [
    "X_embed"
   ]
  },
  {
   "cell_type": "markdown",
   "id": "53ab071a",
   "metadata": {},
   "source": [
    "#### **Balance del conjunto de datos**"
   ]
  },
  {
   "cell_type": "code",
   "execution_count": 11,
   "id": "52afd845",
   "metadata": {},
   "outputs": [
    {
     "data": {
      "text/plain": [
       "<Axes: xlabel='count', ylabel='label'>"
      ]
     },
     "execution_count": 11,
     "metadata": {},
     "output_type": "execute_result"
    },
    {
     "data": {
      "image/png": "[encoded data removed]",
      "text/plain": [
       "<Figure size 640x480 with 1 Axes>"
      ]
     },
     "metadata": {},
     "output_type": "display_data"
    }
   ],
   "source": [
    "sns.countplot(data=df, y=y)"
   ]
  },
  {
   "cell_type": "code",
   "execution_count": 12,
   "id": "a7d4579a",
   "metadata": {},
   "outputs": [],
   "source": [
    "# SMOTE para balancear ambos conjuntos de datos\n",
    "smote = SMOTE()\n",
    "\n",
    "# Para embeddings\n",
    "X_res, y_res = smote.fit_resample(X_embed, y)"
   ]
  },
  {
   "cell_type": "code",
   "execution_count": 14,
   "id": "cf85d90e",
   "metadata": {},
   "outputs": [
    {
     "data": {
      "text/plain": [
       "<Axes: xlabel='count', ylabel='label'>"
      ]
     },
     "execution_count": 14,
     "metadata": {},
     "output_type": "execute_result"
    },
    {
     "data": {
      "image/png": "[encoded data removed]",
      "text/plain": [
       "<Figure size 640x480 with 1 Axes>"
      ]
     },
     "metadata": {},
     "output_type": "display_data"
    }
   ],
   "source": [
    "sns.countplot(y=y_res)"
   ]
  },
  {
   "cell_type": "markdown",
   "id": "9320aff0",
   "metadata": {},
   "source": [
    "#### **División dataset en train/test**"
   ]
  },
  {
   "cell_type": "code",
   "execution_count": 15,
   "id": "a5024263",
   "metadata": {},
   "outputs": [],
   "source": [
    "# Dividir los datos en conjuntos de entrenamiento y prueba\n",
    "X_train, X_test, y_train, y_test = train_test_split(X_res, y_res, test_size=0.3)"
   ]
  },
  {
   "cell_type": "markdown",
   "id": "ec3b265e",
   "metadata": {},
   "source": [
    "#### **Definir modelos de AA**"
   ]
  },
  {
   "cell_type": "code",
   "execution_count": 16,
   "id": "4386759b",
   "metadata": {},
   "outputs": [],
   "source": [
    "models = {\n",
    "    \"Logistic Regression\": LogisticRegression(max_iter=1000),\n",
    "    \"Random Forest\": RandomForestClassifier(n_estimators=100),\n",
    "    \"Naive Bayes\": GaussianNB()\n",
    "}"
   ]
  },
  {
   "cell_type": "markdown",
   "id": "58bfa85d",
   "metadata": {},
   "source": [
    "#### **Entrenar y evaluar modelos**"
   ]
  },
  {
   "cell_type": "code",
   "execution_count": 17,
   "id": "e76bb3f4",
   "metadata": {},
   "outputs": [],
   "source": [
    "# Guardar los resultados\n",
    "resultados_accuracy = []\n",
    "\n",
    "def evaluate_models(X_train, X_test, y_train, y_test, vectorizer_name):\n",
    "    print(f\"\\n Resultados con {vectorizer_name}:\\n\" + \"-\"*40)\n",
    "    for name, model in models.items():\n",
    "        model.fit(X_train, y_train)\n",
    "        y_pred = model.predict(X_test)\n",
    "        acc = accuracy_score(y_test, y_pred)\n",
    "        print(f\"\\n Modelo: {name}\")\n",
    "        print(\"Accuracy:\", acc)\n",
    "        print(classification_report(y_test, y_pred, target_names=label_encoder.classes_))\n",
    "\n",
    "         # Guardar en la lista global\n",
    "        resultados_accuracy.append({\n",
    "            'Modelo': name,\n",
    "            'Vectorización': vectorizer_name,\n",
    "            'Accuracy': acc\n",
    "        })"
   ]
  },
  {
   "cell_type": "code",
   "execution_count": 18,
   "id": "b819d3b7",
   "metadata": {},
   "outputs": [
    {
     "name": "stdout",
     "output_type": "stream",
     "text": [
      "\n",
      " Resultados con Embedding:\n",
      "----------------------------------------\n",
      "\n",
      " Modelo: Logistic Regression\n",
      "Accuracy: 0.8280933356493544\n",
      "              precision    recall  f1-score   support\n",
      "\n",
      "        hate       0.81      0.79      0.80      5804\n",
      "     neither       0.87      0.92      0.89      5785\n",
      "   offensive       0.80      0.78      0.79      5682\n",
      "\n",
      "    accuracy                           0.83     17271\n",
      "   macro avg       0.83      0.83      0.83     17271\n",
      "weighted avg       0.83      0.83      0.83     17271\n",
      "\n",
      "\n",
      " Modelo: Random Forest\n",
      "Accuracy: 0.9512477563545828\n",
      "              precision    recall  f1-score   support\n",
      "\n",
      "        hate       0.97      0.98      0.97      5804\n",
      "     neither       0.94      0.97      0.95      5785\n",
      "   offensive       0.95      0.91      0.93      5682\n",
      "\n",
      "    accuracy                           0.95     17271\n",
      "   macro avg       0.95      0.95      0.95     17271\n",
      "weighted avg       0.95      0.95      0.95     17271\n",
      "\n",
      "\n",
      " Modelo: Naive Bayes\n",
      "Accuracy: 0.7956690405882694\n",
      "              precision    recall  f1-score   support\n",
      "\n",
      "        hate       0.81      0.74      0.78      5804\n",
      "     neither       0.78      0.86      0.82      5785\n",
      "   offensive       0.80      0.78      0.79      5682\n",
      "\n",
      "    accuracy                           0.80     17271\n",
      "   macro avg       0.80      0.80      0.80     17271\n",
      "weighted avg       0.80      0.80      0.80     17271\n",
      "\n"
     ]
    }
   ],
   "source": [
    "# Evaluar \n",
    "evaluate_models(X_train, X_test, y_train, y_test, \"Embedding\")"
   ]
  },
  {
   "cell_type": "markdown",
   "id": "c29176db",
   "metadata": {},
   "source": [
    "#### **Resultados**"
   ]
  },
  {
   "cell_type": "code",
   "execution_count": 19,
   "id": "2c1c1260",
   "metadata": {},
   "outputs": [
    {
     "data": {
      "image/png": "[encoded data removed]",
      "text/plain": [
       "<Figure size 1000x600 with 1 Axes>"
      ]
     },
     "metadata": {},
     "output_type": "display_data"
    }
   ],
   "source": [
    "df_results = pd.DataFrame(resultados_accuracy)\n",
    "\n",
    "plt.figure(figsize=(10, 6))\n",
    "sns.barplot(data=df_results, x='Modelo', y='Accuracy', hue='Vectorización', palette='Set2')\n",
    "plt.title('Comparación de Accuracy por Modelo y Vectorización')\n",
    "plt.ylim(0, 1)\n",
    "plt.tight_layout()\n",
    "plt.show()"
   ]
  }
 ],
 "metadata": {
  "kernelspec": {
   "display_name": "Python 3",
   "language": "python",
   "name": "python3"
  },
  "language_info": {
   "codemirror_mode": {
    "name": "ipython",
    "version": 3
   },
   "file_extension": ".py",
   "mimetype": "text/x-python",
   "name": "python",
   "nbconvert_exporter": "python",
   "pygments_lexer": "ipython3",
   "version": "3.11.9"
  }
 },
 "nbformat": 4,
 "nbformat_minor": 5
}
